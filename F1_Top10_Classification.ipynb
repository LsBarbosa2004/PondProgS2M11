{
 "cells": [
  {
   "cell_type": "markdown",
   "id": "faf44906",
   "metadata": {},
   "source": [
    "# Carregar Dados"
   ]
  },
  {
   "cell_type": "code",
   "execution_count": 7,
   "id": "150c86e0",
   "metadata": {},
   "outputs": [
    {
     "name": "stdout",
     "output_type": "stream",
     "text": [
      "2.20.0\n",
      "results: (26759, 18)\n"
     ]
    }
   ],
   "source": [
    "\n",
    "import os\n",
    "import numpy as np\n",
    "import pandas as pd\n",
    "import os\n",
    "import re\n",
    "import math\n",
    "import numpy as np\n",
    "import pandas as pd\n",
    "from datetime import datetime\n",
    "import matplotlib.pyplot as plt\n",
    "from sklearn.model_selection import train_test_split\n",
    "from sklearn.preprocessing import StandardScaler\n",
    "from sklearn.metrics import accuracy_score, f1_score, classification_report, confusion_matrix\n",
    "import tensorflow as tf\n",
    "from tensorflow.keras.models import Sequential\n",
    "from tensorflow.keras.layers import Dense\n",
    "from tensorflow.keras.optimizers import Adam\n",
    "import warnings\n",
    "warnings.filterwarnings('ignore')\n",
    "print(tf.__version__)\n",
    "\n",
    "\n",
    "DATASET_DIR_NAME = \"dataset\"\n",
    "CANDIDATE_DIRS = [\n",
    "    os.path.join(\".\", DATASET_DIR_NAME),\n",
    "    os.path.join(\".\", \"dataset_extracted\"),\n",
    "    os.path.join(\".\", \"data\"),\n",
    "    os.path.join(\".\", \"f1\"),\n",
    "]\n",
    "\n",
    "def find_dataset_dir(candidates):\n",
    "    required = {\"results.csv\"}\n",
    "    for d in candidates:\n",
    "        if os.path.isdir(d):\n",
    "            files = set(os.listdir(d))\n",
    "            if required.issubset(files):\n",
    "                return d\n",
    "    raise FileNotFoundError(\"Pasta do dataset não encontrada.\")\n",
    "\n",
    "DATASET_DIR = find_dataset_dir(CANDIDATE_DIRS)\n",
    "\n",
    "results = pd.read_csv(os.path.join(DATASET_DIR, \"results.csv\"))\n",
    "status = pd.read_csv(os.path.join(DATASET_DIR, \"status.csv\")) if os.path.exists(os.path.join(DATASET_DIR, \"status.csv\")) else None\n",
    "drivers = pd.read_csv(os.path.join(DATASET_DIR, \"drivers.csv\")) if os.path.exists(os.path.join(DATASET_DIR, \"drivers.csv\")) else None\n",
    "races = pd.read_csv(os.path.join(DATASET_DIR, \"races.csv\")) if os.path.exists(os.path.join(DATASET_DIR, \"races.csv\")) else None\n",
    "qualifying = pd.read_csv(os.path.join(DATASET_DIR, \"qualifying.csv\")) if os.path.exists(os.path.join(DATASET_DIR, \"qualifying.csv\")) else None\n",
    "pit_stops = pd.read_csv(os.path.join(DATASET_DIR, \"pit_stops.csv\")) if os.path.exists(os.path.join(DATASET_DIR, \"pit_stops.csv\")) else None\n",
    "\n",
    "print(\"results:\", results.shape)\n"
   ]
  },
  {
   "cell_type": "code",
   "execution_count": 12,
   "id": "d62d0b47",
   "metadata": {},
   "outputs": [
    {
     "name": "stdout",
     "output_type": "stream",
     "text": [
      "Local do dataset: .\\dataset\n",
      "Tabelas carregadas:\n",
      " - results: (26759, 18)\n",
      " - status: (139, 2)\n",
      " - drivers: (861, 9)\n",
      " - races: (1125, 18)\n",
      " - qualifying: (10494, 9)\n",
      " - pit_stops: (11371, 7)\n"
     ]
    }
   ],
   "source": [
    "DATASET_DIR_NAME = \"dataset\" \n",
    "CANDIDATE_DIRS = [\n",
    "    os.path.join(\".\", DATASET_DIR_NAME),\n",
    "    os.path.join(\".\", \"dataset_extracted\"), \n",
    "    os.path.join(\".\", \"data\"),\n",
    "    os.path.join(\".\", \"f1\"),\n",
    "]\n",
    "\n",
    "def find_dataset_dir(candidates):\n",
    "    required = {\"results.csv\", \"status.csv\"}\n",
    "    for d in candidates:\n",
    "        if os.path.isdir(d):\n",
    "            files = set(os.listdir(d))\n",
    "            if required.issubset(files):\n",
    "                return d\n",
    "    raise FileNotFoundError(\n",
    "        \"Erro Pasta\"\n",
    "    )\n",
    "\n",
    "DATASET_DIR = find_dataset_dir(CANDIDATE_DIRS)\n",
    "print(\"Local do dataset:\", DATASET_DIR)\n",
    "\n",
    "def read_csv_safe(name):\n",
    "    path = os.path.join(DATASET_DIR, name)\n",
    "    if not os.path.exists(path):\n",
    "        print(\"erro\")\n",
    "        return None\n",
    "    return pd.read_csv(path)\n",
    "\n",
    "results = read_csv_safe(\"results.csv\")\n",
    "status = read_csv_safe(\"status.csv\")\n",
    "drivers = read_csv_safe(\"drivers.csv\")\n",
    "races = read_csv_safe(\"races.csv\")\n",
    "qualifying = read_csv_safe(\"qualifying.csv\")\n",
    "pit_stops = read_csv_safe(\"pit_stops.csv\")\n",
    "\n",
    "print(\"Tabelas carregadas:\")\n",
    "for nm,df in [('results', results), ('status', status), ('drivers', drivers), ('races', races), ('qualifying', qualifying), ('pit_stops', pit_stops)]:\n",
    "    if df is not None:\n",
    "        print(f\" - {nm}: {df.shape}\")"
   ]
  },
  {
   "cell_type": "markdown",
   "id": "6be17ff2",
   "metadata": {},
   "source": [
    "# Label "
   ]
  },
  {
   "cell_type": "code",
   "execution_count": 8,
   "id": "d0333ad1",
   "metadata": {},
   "outputs": [
    {
     "name": "stdout",
     "output_type": "stream",
     "text": [
      "top10\n",
      "0    15777\n",
      "1    10982\n",
      "Name: count, dtype: int64\n"
     ]
    }
   ],
   "source": [
    "\n",
    "res = results.copy()\n",
    "res['position_str'] = res['position'].astype(str)\n",
    "res['position_num'] = pd.to_numeric(res['position_str'], errors='coerce')\n",
    "res['top10'] = ((res['position_num'] >= 1) & (res['position_num'] <= 10)).astype(int)\n",
    "y = res['top10'].astype(int)\n",
    "print(y.value_counts())\n"
   ]
  },
  {
   "cell_type": "markdown",
   "id": "9ed737ed",
   "metadata": {},
   "source": [
    "# Features"
   ]
  },
  {
   "cell_type": "code",
   "execution_count": 9,
   "id": "869f63ee",
   "metadata": {},
   "outputs": [
    {
     "name": "stdout",
     "output_type": "stream",
     "text": [
      "(26759, 21) (26759,)\n"
     ]
    }
   ],
   "source": [
    "\n",
    "df = res.copy()\n",
    "\n",
    "if drivers is not None and races is not None:\n",
    "    drivers['dob'] = pd.to_datetime(drivers['dob'], errors='coerce')\n",
    "    if 'date' in races.columns:\n",
    "        races['date'] = pd.to_datetime(races['date'], errors='coerce')\n",
    "    df = df.merge(races[['raceId','year','date']], on='raceId', how='left')\n",
    "    df = df.merge(drivers[['driverId','dob']], on='driverId', how='left')\n",
    "    df['driver_age'] = (df['date'] - df['dob']).dt.days / 365.25\n",
    "else:\n",
    "    if races is not None and 'year' not in df.columns:\n",
    "        df = df.merge(races[['raceId','year']], on='raceId', how='left')\n",
    "    df['driver_age'] = np.nan\n",
    "\n",
    "if qualifying is not None:\n",
    "    q = qualifying.groupby(['raceId','driverId'], as_index=False)['position'].min().rename(columns={'position':'best_quali_pos'})\n",
    "    df = df.merge(q, on=['raceId','driverId'], how='left')\n",
    "else:\n",
    "    df['best_quali_pos'] = np.nan\n",
    "\n",
    "if pit_stops is not None:\n",
    "    p = pit_stops.groupby(['raceId','driverId'], as_index=False)['stop'].count().rename(columns={'stop':'pit_stop_count'})\n",
    "    df = df.merge(p, on=['raceId','driverId'], how='left')\n",
    "else:\n",
    "    df['pit_stop_count'] = np.nan\n",
    "\n",
    "feature_cols_numeric = ['grid','year','driver_age','best_quali_pos','pit_stop_count']\n",
    "for c in feature_cols_numeric:\n",
    "    if c not in df.columns:\n",
    "        df[c] = np.nan\n",
    "    df[c] = pd.to_numeric(df[c], errors='coerce')\n",
    "\n",
    "TOP_N_CONSTRUCTORS = 15\n",
    "if 'constructorId' in df.columns:\n",
    "    top_cons = df['constructorId'].value_counts().head(TOP_N_CONSTRUCTORS).index\n",
    "    df['constructor_cat'] = df['constructorId'].where(df['constructorId'].isin(top_cons), other=-1).astype(int)\n",
    "    dummies = pd.get_dummies(df['constructor_cat'], prefix='constructor', drop_first=False)\n",
    "else:\n",
    "    dummies = pd.DataFrame(index=df.index)\n",
    "\n",
    "X = pd.concat([df[feature_cols_numeric], dummies], axis=1)\n",
    "valid = y.notna() & X.notna().any(axis=1)\n",
    "X = X.loc[valid].copy()\n",
    "y = y.loc[valid].copy()\n",
    "\n",
    "for c in feature_cols_numeric:\n",
    "    if c in X.columns:\n",
    "        X[c] = X[c].fillna(X[c].median())\n",
    "\n",
    "print(X.shape, y.shape)\n"
   ]
  },
  {
   "cell_type": "markdown",
   "id": "051eff67",
   "metadata": {},
   "source": [
    "# Divisão e Escalonamento"
   ]
  },
  {
   "cell_type": "code",
   "execution_count": 10,
   "id": "97af3c15",
   "metadata": {},
   "outputs": [
    {
     "name": "stdout",
     "output_type": "stream",
     "text": [
      "(21407, 21) (5352, 21)\n"
     ]
    }
   ],
   "source": [
    "\n",
    "from sklearn.model_selection import train_test_split\n",
    "from sklearn.preprocessing import StandardScaler\n",
    "\n",
    "X_train, X_test, y_train, y_test = train_test_split(X, y, test_size=0.2, random_state=42, stratify=y)\n",
    "scaler = StandardScaler()\n",
    "X_train_s = scaler.fit_transform(X_train)\n",
    "X_test_s = scaler.transform(X_test)\n",
    "print(X_train.shape, X_test.shape)\n"
   ]
  },
  {
   "cell_type": "markdown",
   "id": "459f80bc",
   "metadata": {},
   "source": [
    "# Modelo"
   ]
  },
  {
   "cell_type": "code",
   "execution_count": 11,
   "id": "0cc374de",
   "metadata": {},
   "outputs": [
    {
     "name": "stdout",
     "output_type": "stream",
     "text": [
      "Epoch 1/50\n",
      "\u001b[1m2141/2141\u001b[0m \u001b[32m━━━━━━━━━━━━━━━━━━━━\u001b[0m\u001b[37m\u001b[0m \u001b[1m2s\u001b[0m 835us/step - accuracy: 0.6063 - loss: 0.7347 - val_accuracy: 0.6876 - val_loss: 0.5969\n",
      "Epoch 2/50\n",
      "\u001b[1m2141/2141\u001b[0m \u001b[32m━━━━━━━━━━━━━━━━━━━━\u001b[0m\u001b[37m\u001b[0m \u001b[1m2s\u001b[0m 803us/step - accuracy: 0.6924 - loss: 0.5903 - val_accuracy: 0.6878 - val_loss: 0.5950\n",
      "Epoch 3/50\n",
      "\u001b[1m2141/2141\u001b[0m \u001b[32m━━━━━━━━━━━━━━━━━━━━\u001b[0m\u001b[37m\u001b[0m \u001b[1m2s\u001b[0m 795us/step - accuracy: 0.6883 - loss: 0.5957 - val_accuracy: 0.6878 - val_loss: 0.5950\n",
      "Epoch 4/50\n",
      "\u001b[1m2141/2141\u001b[0m \u001b[32m━━━━━━━━━━━━━━━━━━━━\u001b[0m\u001b[37m\u001b[0m \u001b[1m2s\u001b[0m 804us/step - accuracy: 0.6862 - loss: 0.5944 - val_accuracy: 0.6872 - val_loss: 0.5946\n",
      "Epoch 5/50\n",
      "\u001b[1m2141/2141\u001b[0m \u001b[32m━━━━━━━━━━━━━━━━━━━━\u001b[0m\u001b[37m\u001b[0m \u001b[1m2s\u001b[0m 814us/step - accuracy: 0.6923 - loss: 0.5907 - val_accuracy: 0.6857 - val_loss: 0.5949\n",
      "Epoch 6/50\n",
      "\u001b[1m2141/2141\u001b[0m \u001b[32m━━━━━━━━━━━━━━━━━━━━\u001b[0m\u001b[37m\u001b[0m \u001b[1m2s\u001b[0m 829us/step - accuracy: 0.6931 - loss: 0.5879 - val_accuracy: 0.6893 - val_loss: 0.5950\n",
      "Epoch 7/50\n",
      "\u001b[1m2141/2141\u001b[0m \u001b[32m━━━━━━━━━━━━━━━━━━━━\u001b[0m\u001b[37m\u001b[0m \u001b[1m2s\u001b[0m 846us/step - accuracy: 0.6926 - loss: 0.5895 - val_accuracy: 0.6882 - val_loss: 0.5949\n",
      "Epoch 8/50\n",
      "\u001b[1m2141/2141\u001b[0m \u001b[32m━━━━━━━━━━━━━━━━━━━━\u001b[0m\u001b[37m\u001b[0m \u001b[1m2s\u001b[0m 824us/step - accuracy: 0.6924 - loss: 0.5894 - val_accuracy: 0.6865 - val_loss: 0.5946\n",
      "Epoch 9/50\n",
      "\u001b[1m2141/2141\u001b[0m \u001b[32m━━━━━━━━━━━━━━━━━━━━\u001b[0m\u001b[37m\u001b[0m \u001b[1m2s\u001b[0m 790us/step - accuracy: 0.6863 - loss: 0.5934 - val_accuracy: 0.6883 - val_loss: 0.5953\n",
      "Epoch 10/50\n",
      "\u001b[1m2141/2141\u001b[0m \u001b[32m━━━━━━━━━━━━━━━━━━━━\u001b[0m\u001b[37m\u001b[0m \u001b[1m2s\u001b[0m 824us/step - accuracy: 0.6898 - loss: 0.5912 - val_accuracy: 0.6876 - val_loss: 0.5956\n",
      "Epoch 11/50\n",
      "\u001b[1m2141/2141\u001b[0m \u001b[32m━━━━━━━━━━━━━━━━━━━━\u001b[0m\u001b[37m\u001b[0m \u001b[1m2s\u001b[0m 812us/step - accuracy: 0.6914 - loss: 0.5913 - val_accuracy: 0.6868 - val_loss: 0.5951\n",
      "Epoch 12/50\n",
      "\u001b[1m2141/2141\u001b[0m \u001b[32m━━━━━━━━━━━━━━━━━━━━\u001b[0m\u001b[37m\u001b[0m \u001b[1m2s\u001b[0m 826us/step - accuracy: 0.6874 - loss: 0.5904 - val_accuracy: 0.6870 - val_loss: 0.5950\n",
      "Epoch 13/50\n",
      "\u001b[1m2141/2141\u001b[0m \u001b[32m━━━━━━━━━━━━━━━━━━━━\u001b[0m\u001b[37m\u001b[0m \u001b[1m2s\u001b[0m 869us/step - accuracy: 0.6940 - loss: 0.5882 - val_accuracy: 0.6865 - val_loss: 0.5945\n",
      "Epoch 14/50\n",
      "\u001b[1m2141/2141\u001b[0m \u001b[32m━━━━━━━━━━━━━━━━━━━━\u001b[0m\u001b[37m\u001b[0m \u001b[1m2s\u001b[0m 885us/step - accuracy: 0.6941 - loss: 0.5902 - val_accuracy: 0.6852 - val_loss: 0.5948\n",
      "Epoch 15/50\n",
      "\u001b[1m2141/2141\u001b[0m \u001b[32m━━━━━━━━━━━━━━━━━━━━\u001b[0m\u001b[37m\u001b[0m \u001b[1m2s\u001b[0m 800us/step - accuracy: 0.6926 - loss: 0.5916 - val_accuracy: 0.6861 - val_loss: 0.5948\n",
      "Epoch 16/50\n",
      "\u001b[1m2141/2141\u001b[0m \u001b[32m━━━━━━━━━━━━━━━━━━━━\u001b[0m\u001b[37m\u001b[0m \u001b[1m2s\u001b[0m 811us/step - accuracy: 0.6878 - loss: 0.5938 - val_accuracy: 0.6872 - val_loss: 0.5949\n",
      "Epoch 17/50\n",
      "\u001b[1m2141/2141\u001b[0m \u001b[32m━━━━━━━━━━━━━━━━━━━━\u001b[0m\u001b[37m\u001b[0m \u001b[1m2s\u001b[0m 810us/step - accuracy: 0.6891 - loss: 0.5949 - val_accuracy: 0.6876 - val_loss: 0.5947\n",
      "Epoch 18/50\n",
      "\u001b[1m2141/2141\u001b[0m \u001b[32m━━━━━━━━━━━━━━━━━━━━\u001b[0m\u001b[37m\u001b[0m \u001b[1m2s\u001b[0m 801us/step - accuracy: 0.6865 - loss: 0.5942 - val_accuracy: 0.6893 - val_loss: 0.5952\n",
      "Epoch 19/50\n",
      "\u001b[1m2141/2141\u001b[0m \u001b[32m━━━━━━━━━━━━━━━━━━━━\u001b[0m\u001b[37m\u001b[0m \u001b[1m2s\u001b[0m 802us/step - accuracy: 0.6941 - loss: 0.5905 - val_accuracy: 0.6880 - val_loss: 0.5951\n",
      "Epoch 20/50\n",
      "\u001b[1m2141/2141\u001b[0m \u001b[32m━━━━━━━━━━━━━━━━━━━━\u001b[0m\u001b[37m\u001b[0m \u001b[1m2s\u001b[0m 803us/step - accuracy: 0.6901 - loss: 0.5900 - val_accuracy: 0.6882 - val_loss: 0.5951\n",
      "Epoch 21/50\n",
      "\u001b[1m2141/2141\u001b[0m \u001b[32m━━━━━━━━━━━━━━━━━━━━\u001b[0m\u001b[37m\u001b[0m \u001b[1m2s\u001b[0m 808us/step - accuracy: 0.6922 - loss: 0.5899 - val_accuracy: 0.6883 - val_loss: 0.5953\n",
      "Epoch 22/50\n",
      "\u001b[1m2141/2141\u001b[0m \u001b[32m━━━━━━━━━━━━━━━━━━━━\u001b[0m\u001b[37m\u001b[0m \u001b[1m2s\u001b[0m 801us/step - accuracy: 0.6887 - loss: 0.5901 - val_accuracy: 0.6852 - val_loss: 0.5955\n",
      "Epoch 23/50\n",
      "\u001b[1m2141/2141\u001b[0m \u001b[32m━━━━━━━━━━━━━━━━━━━━\u001b[0m\u001b[37m\u001b[0m \u001b[1m2s\u001b[0m 807us/step - accuracy: 0.6855 - loss: 0.5941 - val_accuracy: 0.6833 - val_loss: 0.5948\n",
      "Epoch 24/50\n",
      "\u001b[1m2141/2141\u001b[0m \u001b[32m━━━━━━━━━━━━━━━━━━━━\u001b[0m\u001b[37m\u001b[0m \u001b[1m2s\u001b[0m 795us/step - accuracy: 0.6831 - loss: 0.5976 - val_accuracy: 0.6850 - val_loss: 0.5954\n",
      "Epoch 25/50\n",
      "\u001b[1m2141/2141\u001b[0m \u001b[32m━━━━━━━━━━━━━━━━━━━━\u001b[0m\u001b[37m\u001b[0m \u001b[1m2s\u001b[0m 825us/step - accuracy: 0.6890 - loss: 0.5912 - val_accuracy: 0.6882 - val_loss: 0.5947\n",
      "Epoch 26/50\n",
      "\u001b[1m2141/2141\u001b[0m \u001b[32m━━━━━━━━━━━━━━━━━━━━\u001b[0m\u001b[37m\u001b[0m \u001b[1m2s\u001b[0m 795us/step - accuracy: 0.6884 - loss: 0.5961 - val_accuracy: 0.6852 - val_loss: 0.5950\n",
      "Epoch 27/50\n",
      "\u001b[1m2141/2141\u001b[0m \u001b[32m━━━━━━━━━━━━━━━━━━━━\u001b[0m\u001b[37m\u001b[0m \u001b[1m2s\u001b[0m 808us/step - accuracy: 0.6874 - loss: 0.5929 - val_accuracy: 0.6898 - val_loss: 0.5945\n",
      "Epoch 28/50\n",
      "\u001b[1m2141/2141\u001b[0m \u001b[32m━━━━━━━━━━━━━━━━━━━━\u001b[0m\u001b[37m\u001b[0m \u001b[1m2s\u001b[0m 815us/step - accuracy: 0.6863 - loss: 0.5905 - val_accuracy: 0.6896 - val_loss: 0.5951\n",
      "Epoch 29/50\n",
      "\u001b[1m2141/2141\u001b[0m \u001b[32m━━━━━━━━━━━━━━━━━━━━\u001b[0m\u001b[37m\u001b[0m \u001b[1m2s\u001b[0m 804us/step - accuracy: 0.6838 - loss: 0.5949 - val_accuracy: 0.6865 - val_loss: 0.5948\n",
      "Epoch 30/50\n",
      "\u001b[1m2141/2141\u001b[0m \u001b[32m━━━━━━━━━━━━━━━━━━━━\u001b[0m\u001b[37m\u001b[0m \u001b[1m2s\u001b[0m 804us/step - accuracy: 0.6950 - loss: 0.5888 - val_accuracy: 0.6850 - val_loss: 0.5953\n",
      "Epoch 31/50\n",
      "\u001b[1m2141/2141\u001b[0m \u001b[32m━━━━━━━━━━━━━━━━━━━━\u001b[0m\u001b[37m\u001b[0m \u001b[1m2s\u001b[0m 815us/step - accuracy: 0.6865 - loss: 0.5952 - val_accuracy: 0.6889 - val_loss: 0.5946\n",
      "Epoch 32/50\n",
      "\u001b[1m2141/2141\u001b[0m \u001b[32m━━━━━━━━━━━━━━━━━━━━\u001b[0m\u001b[37m\u001b[0m \u001b[1m2s\u001b[0m 807us/step - accuracy: 0.6855 - loss: 0.5945 - val_accuracy: 0.6891 - val_loss: 0.5948\n",
      "Epoch 33/50\n",
      "\u001b[1m2141/2141\u001b[0m \u001b[32m━━━━━━━━━━━━━━━━━━━━\u001b[0m\u001b[37m\u001b[0m \u001b[1m2s\u001b[0m 806us/step - accuracy: 0.6921 - loss: 0.5924 - val_accuracy: 0.6854 - val_loss: 0.5949\n",
      "Epoch 34/50\n",
      "\u001b[1m2141/2141\u001b[0m \u001b[32m━━━━━━━━━━━━━━━━━━━━\u001b[0m\u001b[37m\u001b[0m \u001b[1m2s\u001b[0m 790us/step - accuracy: 0.6869 - loss: 0.5922 - val_accuracy: 0.6861 - val_loss: 0.5948\n",
      "Epoch 35/50\n",
      "\u001b[1m2141/2141\u001b[0m \u001b[32m━━━━━━━━━━━━━━━━━━━━\u001b[0m\u001b[37m\u001b[0m \u001b[1m2s\u001b[0m 805us/step - accuracy: 0.6913 - loss: 0.5881 - val_accuracy: 0.6887 - val_loss: 0.5950\n",
      "Epoch 36/50\n",
      "\u001b[1m2141/2141\u001b[0m \u001b[32m━━━━━━━━━━━━━━━━━━━━\u001b[0m\u001b[37m\u001b[0m \u001b[1m2s\u001b[0m 811us/step - accuracy: 0.6899 - loss: 0.5937 - val_accuracy: 0.6882 - val_loss: 0.5950\n",
      "Epoch 37/50\n",
      "\u001b[1m2141/2141\u001b[0m \u001b[32m━━━━━━━━━━━━━━━━━━━━\u001b[0m\u001b[37m\u001b[0m \u001b[1m2s\u001b[0m 804us/step - accuracy: 0.6940 - loss: 0.5888 - val_accuracy: 0.6857 - val_loss: 0.5950\n",
      "Epoch 38/50\n",
      "\u001b[1m2141/2141\u001b[0m \u001b[32m━━━━━━━━━━━━━━━━━━━━\u001b[0m\u001b[37m\u001b[0m \u001b[1m2s\u001b[0m 796us/step - accuracy: 0.6886 - loss: 0.5910 - val_accuracy: 0.6829 - val_loss: 0.5952\n",
      "Epoch 39/50\n",
      "\u001b[1m2141/2141\u001b[0m \u001b[32m━━━━━━━━━━━━━━━━━━━━\u001b[0m\u001b[37m\u001b[0m \u001b[1m2s\u001b[0m 798us/step - accuracy: 0.6892 - loss: 0.5915 - val_accuracy: 0.6870 - val_loss: 0.5951\n",
      "Epoch 40/50\n",
      "\u001b[1m2141/2141\u001b[0m \u001b[32m━━━━━━━━━━━━━━━━━━━━\u001b[0m\u001b[37m\u001b[0m \u001b[1m2s\u001b[0m 808us/step - accuracy: 0.6839 - loss: 0.5941 - val_accuracy: 0.6854 - val_loss: 0.5951\n",
      "Epoch 41/50\n",
      "\u001b[1m2141/2141\u001b[0m \u001b[32m━━━━━━━━━━━━━━━━━━━━\u001b[0m\u001b[37m\u001b[0m \u001b[1m2s\u001b[0m 803us/step - accuracy: 0.6896 - loss: 0.5914 - val_accuracy: 0.6854 - val_loss: 0.5952\n",
      "Epoch 42/50\n",
      "\u001b[1m2141/2141\u001b[0m \u001b[32m━━━━━━━━━━━━━━━━━━━━\u001b[0m\u001b[37m\u001b[0m \u001b[1m2s\u001b[0m 807us/step - accuracy: 0.6881 - loss: 0.5933 - val_accuracy: 0.6848 - val_loss: 0.5953\n",
      "Epoch 43/50\n",
      "\u001b[1m2141/2141\u001b[0m \u001b[32m━━━━━━━━━━━━━━━━━━━━\u001b[0m\u001b[37m\u001b[0m \u001b[1m2s\u001b[0m 808us/step - accuracy: 0.6863 - loss: 0.5928 - val_accuracy: 0.6846 - val_loss: 0.5951\n",
      "Epoch 44/50\n",
      "\u001b[1m2141/2141\u001b[0m \u001b[32m━━━━━━━━━━━━━━━━━━━━\u001b[0m\u001b[37m\u001b[0m \u001b[1m2s\u001b[0m 816us/step - accuracy: 0.6843 - loss: 0.5948 - val_accuracy: 0.6865 - val_loss: 0.5948\n",
      "Epoch 45/50\n",
      "\u001b[1m2141/2141\u001b[0m \u001b[32m━━━━━━━━━━━━━━━━━━━━\u001b[0m\u001b[37m\u001b[0m \u001b[1m2s\u001b[0m 817us/step - accuracy: 0.6881 - loss: 0.5921 - val_accuracy: 0.6882 - val_loss: 0.5951\n",
      "Epoch 46/50\n",
      "\u001b[1m2141/2141\u001b[0m \u001b[32m━━━━━━━━━━━━━━━━━━━━\u001b[0m\u001b[37m\u001b[0m \u001b[1m2s\u001b[0m 810us/step - accuracy: 0.6953 - loss: 0.5880 - val_accuracy: 0.6885 - val_loss: 0.5950\n",
      "Epoch 47/50\n",
      "\u001b[1m2141/2141\u001b[0m \u001b[32m━━━━━━━━━━━━━━━━━━━━\u001b[0m\u001b[37m\u001b[0m \u001b[1m2s\u001b[0m 797us/step - accuracy: 0.6860 - loss: 0.5943 - val_accuracy: 0.6876 - val_loss: 0.5947\n",
      "Epoch 48/50\n",
      "\u001b[1m2141/2141\u001b[0m \u001b[32m━━━━━━━━━━━━━━━━━━━━\u001b[0m\u001b[37m\u001b[0m \u001b[1m2s\u001b[0m 801us/step - accuracy: 0.6857 - loss: 0.5957 - val_accuracy: 0.6868 - val_loss: 0.5956\n",
      "Epoch 49/50\n",
      "\u001b[1m2141/2141\u001b[0m \u001b[32m━━━━━━━━━━━━━━━━━━━━\u001b[0m\u001b[37m\u001b[0m \u001b[1m2s\u001b[0m 800us/step - accuracy: 0.6838 - loss: 0.5979 - val_accuracy: 0.6882 - val_loss: 0.5949\n",
      "Epoch 50/50\n",
      "\u001b[1m2141/2141\u001b[0m \u001b[32m━━━━━━━━━━━━━━━━━━━━\u001b[0m\u001b[37m\u001b[0m \u001b[1m2s\u001b[0m 808us/step - accuracy: 0.6833 - loss: 0.5953 - val_accuracy: 0.6855 - val_loss: 0.5953\n"
     ]
    },
    {
     "data": {
      "image/png": "[encoded data removed]",
      "text/plain": [
       "<Figure size 600x400 with 1 Axes>"
      ]
     },
     "metadata": {},
     "output_type": "display_data"
    }
   ],
   "source": [
    "\n",
    "import tensorflow as tf\n",
    "from tensorflow.keras.models import Sequential\n",
    "from tensorflow.keras.layers import Dense\n",
    "from tensorflow.keras.optimizers import Adam\n",
    "\n",
    "tf.keras.backend.clear_session()\n",
    "model = Sequential([Dense(1, activation='sigmoid', input_shape=(X_train_s.shape[1],))])\n",
    "model.compile(optimizer=Adam(), loss='binary_crossentropy', metrics=['accuracy'])\n",
    "history = model.fit(X_train_s, y_train, validation_data=(X_test_s, y_test), epochs=50, batch_size=10, verbose=1)\n",
    "\n",
    "plt.figure(figsize=(6,4))\n",
    "plt.plot(history.history['accuracy'], label='acc (train)')\n",
    "plt.plot(history.history['val_accuracy'], label='acc (val)')\n",
    "plt.title('Acurácia durante o treino')\n",
    "plt.xlabel('Época')\n",
    "plt.ylabel('Acurácia')\n",
    "plt.legend()\n",
    "plt.grid(True)\n",
    "plt.show()\n"
   ]
  },
  {
   "cell_type": "markdown",
   "id": "6936dd5c",
   "metadata": {},
   "source": [
    "# Avaliação"
   ]
  },
  {
   "cell_type": "code",
   "execution_count": 6,
   "id": "69dd6606",
   "metadata": {},
   "outputs": [
    {
     "name": "stdout",
     "output_type": "stream",
     "text": [
      "\u001b[1m168/168\u001b[0m \u001b[32m━━━━━━━━━━━━━━━━━━━━\u001b[0m\u001b[37m\u001b[0m \u001b[1m0s\u001b[0m 503us/step\n",
      "accuracy: 0.6870\n",
      "f1: 0.5320\n",
      "              precision    recall  f1-score   support\n",
      "\n",
      "           0     0.6866    0.8634    0.7649      3156\n",
      "           1     0.6884    0.4335    0.5320      2196\n",
      "\n",
      "    accuracy                         0.6870      5352\n",
      "   macro avg     0.6875    0.6485    0.6485      5352\n",
      "weighted avg     0.6873    0.6870    0.6693      5352\n",
      "\n"
     ]
    },
    {
     "data": {
      "image/png": "[encoded data removed]",
      "text/plain": [
       "<Figure size 640x480 with 1 Axes>"
      ]
     },
     "metadata": {},
     "output_type": "display_data"
    }
   ],
   "source": [
    "\n",
    "from sklearn.metrics import accuracy_score, f1_score, classification_report, confusion_matrix\n",
    "import numpy as np\n",
    "import matplotlib.pyplot as plt\n",
    "\n",
    "y_prob = model.predict(X_test_s)\n",
    "y_pred = (y_prob >= 0.5).astype(int).ravel()\n",
    "\n",
    "acc = accuracy_score(y_test, y_pred)\n",
    "f1 = f1_score(y_test, y_pred)\n",
    "\n",
    "print(f\"accuracy: {acc:.4f}\")\n",
    "print(f\"f1: {f1:.4f}\")\n",
    "print(classification_report(y_test, y_pred, digits=4))\n",
    "\n",
    "cm = confusion_matrix(y_test, y_pred)\n",
    "plt.figure()\n",
    "plt.imshow(cm)\n",
    "plt.title(\"Confusion Matrix\")\n",
    "plt.xlabel(\"Predicted\")\n",
    "plt.ylabel(\"True\")\n",
    "for (i, j), v in np.ndenumerate(cm):\n",
    "    plt.text(j, i, str(v), ha='center', va='center')\n",
    "plt.show()\n"
   ]
  }
 ],
 "metadata": {
  "kernelspec": {
   "display_name": "Python 3",
   "language": "python",
   "name": "python3"
  },
  "language_info": {
   "codemirror_mode": {
    "name": "ipython",
    "version": 3
   },
   "file_extension": ".py",
   "mimetype": "text/x-python",
   "name": "python",
   "nbconvert_exporter": "python",
   "pygments_lexer": "ipython3",
   "version": "3.9.6"
  }
 },
 "nbformat": 4,
 "nbformat_minor": 5
}
